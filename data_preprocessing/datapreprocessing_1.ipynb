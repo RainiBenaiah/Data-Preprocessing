{
  "nbformat": 4,
  "nbformat_minor": 0,
  "metadata": {
    "colab": {
      "provenance": [],
      "include_colab_link": true
    },
    "kernelspec": {
      "name": "python3",
      "display_name": "Python 3"
    },
    "language_info": {
      "name": "python"
    }
  },
  "cells": [
    {
      "cell_type": "markdown",
      "metadata": {
        "id": "view-in-github",
        "colab_type": "text"
      },
      "source": [
        "<a href=\"https://colab.research.google.com/github/RainiBenaiah/Data-Preprocessing/blob/main/data_preprocessing/datapreprocessing_1.ipynb\" target=\"_parent\"><img src=\"https://colab.research.google.com/assets/colab-badge.svg\" alt=\"Open In Colab\"/></a>"
      ]
    },
    {
      "cell_type": "markdown",
      "source": [
        "# Data Preprocessing"
      ],
      "metadata": {
        "id": "k1lHHzXM1B8d"
      }
    },
    {
      "cell_type": "markdown",
      "source": [
        "## Part One: Data Cleaning and Data Augmentation"
      ],
      "metadata": {
        "id": "W4jUQLp51JLd"
      }
    },
    {
      "cell_type": "markdown",
      "source": [
        "### I.  Data Cleaning"
      ],
      "metadata": {
        "id": "blaHUcWz1c-K"
      }
    },
    {
      "cell_type": "code",
      "execution_count": null,
      "metadata": {
        "id": "45GYYY6s0yAd"
      },
      "outputs": [],
      "source": [
        "# IMPORTS\n",
        "\n",
        "import pandas as pd\n",
        "import numpy as np\n",
        "import matplotlib.pyplot as plt\n",
        "import seaborn as sns\n",
        "from sklearn.model_selection import train_test_split\n",
        "from sklearn.ensemble import RandomForestRegressor\n",
        "from sklearn.ensemble import RandomForestClassifier\n",
        "from sklearn.preprocessing import LabelEncoder\n",
        "from sklearn.preprocessing import MinMaxScaler\n",
        "from sklearn.metrics import mean_squared_error, r2_score\n",
        "from datetime import timedelta\n",
        "from sklearn.feature_extraction.text import TfidfVectorizer\n",
        "import random"
      ]
    },
    {
      "cell_type": "code",
      "source": [
        "# LOAD DATA (customer_transaction.csv) AND CREATE COPIES FOR DIFFERENT IMPUTATIONS\n",
        "\n",
        "path = '/content/drive/MyDrive/customer_transactions.csv'\n",
        "data = pd.read_csv(path)\n",
        "print(data.head(10))\n",
        "\n",
        "# create copies for the different imputation techniques\n",
        "for i in range (1, 3):\n",
        "  copied_file = f'copy_{i}.csv'\n",
        "  data.to_csv(copied_file, index=False)\n",
        "  print(f'saved {copied_file}')"
      ],
      "metadata": {
        "colab": {
          "base_uri": "https://localhost:8080/"
        },
        "collapsed": true,
        "id": "9fcDdX8N19xF",
        "outputId": "75d590e9-72ec-492b-fd98-509cfb6dad34"
      },
      "execution_count": null,
      "outputs": [
        {
          "output_type": "stream",
          "name": "stdout",
          "text": [
            "   customer_id_legacy  transaction_id  purchase_amount purchase_date  \\\n",
            "0                 151            1001              408    2024-01-01   \n",
            "1                 192            1002              332    2024-01-02   \n",
            "2                 114            1003              442    2024-01-03   \n",
            "3                 171            1004              256    2024-01-04   \n",
            "4                 160            1005               64    2024-01-05   \n",
            "5                 120            1006              395    2024-01-06   \n",
            "6                 182            1007               91    2024-01-07   \n",
            "7                 186            1008              429    2024-01-08   \n",
            "8                 174            1009              228    2024-01-09   \n",
            "9                 174            1010              112    2024-01-10   \n",
            "\n",
            "  product_category  customer_rating  \n",
            "0           Sports              2.3  \n",
            "1      Electronics              4.2  \n",
            "2      Electronics              2.1  \n",
            "3         Clothing              2.8  \n",
            "4         Clothing              1.3  \n",
            "5        Groceries              1.1  \n",
            "6           Sports              4.9  \n",
            "7         Clothing              4.3  \n",
            "8      Electronics              3.8  \n",
            "9           Sports              2.6  \n",
            "saved copy_1.csv\n",
            "saved copy_2.csv\n"
          ]
        }
      ]
    },
    {
      "cell_type": "code",
      "source": [
        "# FIND MISSING VALUES\n",
        "\n",
        "missing_values = data.isnull().sum()\n",
        "print(missing_values)"
      ],
      "metadata": {
        "colab": {
          "base_uri": "https://localhost:8080/"
        },
        "id": "n-X37wkG2lTk",
        "outputId": "270c5ac1-4bf2-4c22-efcf-82e9c5583bf2"
      },
      "execution_count": null,
      "outputs": [
        {
          "output_type": "stream",
          "name": "stdout",
          "text": [
            "customer_id_legacy     0\n",
            "transaction_id         0\n",
            "purchase_amount        0\n",
            "purchase_date          0\n",
            "product_category       0\n",
            "customer_rating       10\n",
            "dtype: int64\n"
          ]
        }
      ]
    },
    {
      "cell_type": "markdown",
      "source": [
        "- The ***'customer_rating'*** column is the only column with missing values.\n",
        "\n",
        "- The missing values will be imputed with *Median Imputation*\n",
        "\n",
        "- We will also use the other copy we created to impute the missing data with predictive modeling with *Random Forest*\n",
        "\n"
      ],
      "metadata": {
        "id": "NRJlu1Db2z9P"
      }
    },
    {
      "cell_type": "code",
      "source": [
        "copy_path = 'copy_1.csv'\n",
        "data_i = pd.read_csv(copy_path)\n",
        "print(data_i.head(3))"
      ],
      "metadata": {
        "colab": {
          "base_uri": "https://localhost:8080/"
        },
        "id": "CFrnVoMY3KHe",
        "outputId": "9dee8ff1-2f1c-4e57-b261-0f5c0e3b3517"
      },
      "execution_count": null,
      "outputs": [
        {
          "output_type": "stream",
          "name": "stdout",
          "text": [
            "   customer_id_legacy  transaction_id  purchase_amount purchase_date  \\\n",
            "0                 151            1001              408    2024-01-01   \n",
            "1                 192            1002              332    2024-01-02   \n",
            "2                 114            1003              442    2024-01-03   \n",
            "\n",
            "  product_category  customer_rating  \n",
            "0           Sports              2.3  \n",
            "1      Electronics              4.2  \n",
            "2      Electronics              2.1  \n"
          ]
        }
      ]
    },
    {
      "cell_type": "code",
      "source": [
        "# MEDIAN IMPUTATION\n",
        "\n",
        "# only the customer ratings column has misssing values\n",
        "\n",
        "missing_ratings = data_i[data_i['customer_rating'].isna()]\n",
        "\n",
        "# function to fill customer ratings based on past customer ratings\n",
        "\n",
        "def fill_rating(row):\n",
        "  if pd.isna(row['customer_rating']):# processing only missing values\n",
        "    # get past ratings for the same customer\n",
        "    past_ratings = data_i[data_i['customer_id_legacy'] == row['customer_id_legacy']]['customer_rating'].dropna()\n",
        "\n",
        "\n",
        "    if not past_ratings.empty:\n",
        "      return past_ratings.median()\n",
        "\n",
        "    else:\n",
        "      # if no previous ratings, fall back to product category median\n",
        "      category_median = data_i[data_i['product_category'] == row['product_category']]['customer_rating'].median()\n",
        "      return category_median if not pd.isna(category_median) else data_i['customer_rating'].median()\n",
        "\n",
        "  return row['customer_rating']\n",
        "\n",
        "data_i['customer_rating'] = data_i.apply(fill_rating, axis=1)\n",
        "\n",
        "print(data_i['customer_rating'].isna().sum())"
      ],
      "metadata": {
        "colab": {
          "base_uri": "https://localhost:8080/"
        },
        "id": "DqC1k8xw4KdG",
        "outputId": "3d2927f0-b7ac-4989-d983-77075f74ca4e"
      },
      "execution_count": null,
      "outputs": [
        {
          "output_type": "stream",
          "name": "stdout",
          "text": [
            "0\n"
          ]
        }
      ]
    },
    {
      "cell_type": "code",
      "source": [
        "copy_path = 'copy_2.csv'\n",
        "data_ii = pd.read_csv(copy_path)\n",
        "print(data_ii.head(3))"
      ],
      "metadata": {
        "colab": {
          "base_uri": "https://localhost:8080/"
        },
        "id": "dZwNJKiA4lio",
        "outputId": "e257c3b2-26f9-45cb-f319-21730745cc5c"
      },
      "execution_count": null,
      "outputs": [
        {
          "output_type": "stream",
          "name": "stdout",
          "text": [
            "   customer_id_legacy  transaction_id  purchase_amount purchase_date  \\\n",
            "0                 151            1001              408    2024-01-01   \n",
            "1                 192            1002              332    2024-01-02   \n",
            "2                 114            1003              442    2024-01-03   \n",
            "\n",
            "  product_category  customer_rating  \n",
            "0           Sports              2.3  \n",
            "1      Electronics              4.2  \n",
            "2      Electronics              2.1  \n"
          ]
        }
      ]
    },
    {
      "cell_type": "code",
      "source": [
        "# PREDICTIVE MODELING IMPUTATION WITH RANDOM FOREST\n",
        "\n",
        "# experimenting with predictive modeling usin RandomForest\n",
        "complete_data = data_ii.dropna(subset=['customer_rating'])\n",
        "\n",
        "# encode product category\n",
        "complete_data['product_category'] = LabelEncoder().fit_transform(complete_data['product_category'])\n",
        "\n",
        "# define features and target variable\n",
        "X = complete_data.drop(columns=['customer_rating', 'customer_id_legacy', 'transaction_id', 'purchase_date'])\n",
        "y = complete_data['customer_rating']\n",
        "\n",
        "# split data into train and test\n",
        "X_train_eval, X_test_eval, y_train_eval, y_test_eval = train_test_split(X, y, test_size=0.2, random_state=42)"
      ],
      "metadata": {
        "id": "3oIpr8dl4xTm"
      },
      "execution_count": null,
      "outputs": []
    },
    {
      "cell_type": "code",
      "source": [
        "# train model\n",
        "model_eval = RandomForestRegressor(n_estimators=100, random_state=42)\n",
        "model_eval.fit(X_train_eval, y_train_eval)\n",
        "\n",
        "# predict missing customer ratings\n",
        "y_pred_eval = model_eval.predict(X_test_eval)\n",
        "\n",
        "# evaluate model\n",
        "rmse = np.sqrt(mean_squared_error(y_test_eval, y_pred_eval))\n",
        "r2 = r2_score(y_test_eval, y_pred_eval)\n",
        "\n",
        "print(f'RMSE: {rmse:.4f}')\n",
        "print(f'R² Score: {r2:.4f}')"
      ],
      "metadata": {
        "colab": {
          "base_uri": "https://localhost:8080/"
        },
        "id": "5Qm0FE-m5EJ6",
        "outputId": "859f4c93-58e0-4fea-fc3a-61630c1bea87"
      },
      "execution_count": null,
      "outputs": [
        {
          "output_type": "stream",
          "name": "stdout",
          "text": [
            "RMSE: 1.5229\n",
            "R² Score: -0.4782\n"
          ]
        }
      ]
    },
    {
      "cell_type": "markdown",
      "source": [
        "We will proceed with data augmentation with the copy we imputed its missing values using median"
      ],
      "metadata": {
        "id": "F3Vyg9B75frp"
      }
    },
    {
      "cell_type": "markdown",
      "source": [
        "### II. Data Augmentation"
      ],
      "metadata": {
        "id": "rACZZmai55KS"
      }
    },
    {
      "cell_type": "markdown",
      "source": [
        "**1.   Applying Random Noise to Numerical Transaction Values**\n",
        "\n"
      ],
      "metadata": {
        "id": "pyAHuPgJ6VBL"
      }
    },
    {
      "cell_type": "code",
      "source": [
        "# define noise level (1-5% of the mean transaction amount)\n",
        "\n",
        "noise_std = 0.05 * data_i['purchase_amount'].mean()\n",
        "data_i['purchase_amount_aug'] = data_i['purchase_amount'] + np.random.normal(0, noise_std, data_i.shape[0])"
      ],
      "metadata": {
        "id": "g6nnmHpY6FQb"
      },
      "execution_count": null,
      "outputs": []
    },
    {
      "cell_type": "markdown",
      "source": [
        "**2. Synthetic Data Generation (New Transactions per Customer)**"
      ],
      "metadata": {
        "id": "Lo0HtEVk63Ox"
      }
    },
    {
      "cell_type": "code",
      "source": [
        "def generate_synthetic_transactions(data_i, num_new=75):\n",
        "    new_data = []\n",
        "    for _ in range(num_new):\n",
        "        row = data_i.sample(1).iloc[0].copy()\n",
        "        row['transaction_id'] = data_i['transaction_id'].max() + random.randint(1, 100)\n",
        "        row['purchase_amount'] += np.random.normal(0, noise_std)\n",
        "        row['purchase_date'] = pd.to_datetime(row['purchase_date']) + timedelta(days=random.randint(1, 30))\n",
        "        new_data.append(row)\n",
        "\n",
        "    return pd.DataFrame(new_data)\n",
        "\n",
        "# generate 75 synthetic transactions\n",
        "synthetic_data = generate_synthetic_transactions(data_i, num_new=75)\n",
        "\n",
        "# duplicate 75 real transactions\n",
        "real_duplicates = data_i.sample(75, replace=True).copy()\n",
        "real_duplicates['transaction_id'] = real_duplicates['transaction_id'].max() + np.arange(1, 76)\n",
        "\n",
        "# combine all data\n",
        "data_augmented = pd.concat([data_i, synthetic_data, real_duplicates], ignore_index=True)\n",
        "\n",
        "data_augmented.shape"
      ],
      "metadata": {
        "colab": {
          "base_uri": "https://localhost:8080/"
        },
        "id": "vyFTryV87DPy",
        "outputId": "3e2a76c8-d1e0-4219-f1f0-777b67793308"
      },
      "execution_count": null,
      "outputs": [
        {
          "output_type": "execute_result",
          "data": {
            "text/plain": [
              "(300, 7)"
            ]
          },
          "metadata": {},
          "execution_count": 12
        }
      ]
    },
    {
      "cell_type": "markdown",
      "source": [
        "Now that the dataset is augmented, (doubled the number of rows), we will save our dataset to use it for merging"
      ],
      "metadata": {
        "id": "SjU23DCV7_0h"
      }
    },
    {
      "cell_type": "code",
      "source": [
        "# saving and exporting augmented dataset\n",
        "\n",
        "augmented_data = data_augmented\n",
        "output_file = 'customer_transactions_augmented.csv'\n",
        "augmented_data.to_csv(output_file, index=False)\n",
        "\n",
        "print(f'saved the dataset as {output_file}')"
      ],
      "metadata": {
        "colab": {
          "base_uri": "https://localhost:8080/"
        },
        "id": "wNoXsGAO78xo",
        "outputId": "d49bacb9-e4ff-4c0d-f846-2ffbaf06c125"
      },
      "execution_count": null,
      "outputs": [
        {
          "output_type": "stream",
          "name": "stdout",
          "text": [
            "saved the dataset as customer_transactions_augmented.csv\n"
          ]
        }
      ]
    },
    {
      "cell_type": "markdown",
      "source": [
        "\n",
        "\n",
        "---\n",
        "\n"
      ],
      "metadata": {
        "id": "wf_Wu28KF3hn"
      }
    },
    {
      "cell_type": "markdown",
      "source": [
        "## Part Two: Merging Datasets with Transitive Properties"
      ],
      "metadata": {
        "id": "RDQiRpXy8ls0"
      }
    },
    {
      "cell_type": "markdown",
      "source": [
        "We will be merging our saved ***customer_transactions_augmented.csv***  with ***id_mapping.csv*** and ***customer_social_profiles.csv***"
      ],
      "metadata": {
        "id": "GCKsG7KWEw3s"
      }
    },
    {
      "cell_type": "markdown",
      "source": [
        "### I. Merge transactions with ID mapping"
      ],
      "metadata": {
        "id": "825OP08CFqXb"
      }
    },
    {
      "cell_type": "code",
      "source": [
        "# LOAD DATA\n",
        "\n",
        "transactions = pd.read_csv(\"customer_transactions_augmented.csv\")\n",
        "id_mapping = pd.read_csv(\"/content/drive/MyDrive/id_mapping.csv\")\n",
        "\n",
        "# MERGE TRANSACTIONS WITH ID MAPPING\n",
        "\n",
        "merged_data = transactions.merge(id_mapping, on=\"customer_id_legacy\", how=\"left\")\n",
        "\n",
        "# Check merge success\n",
        "print(merged_data.head())\n",
        "print(f\"Missing customer_id_new: {merged_data['customer_id_new'].isna().sum()}\")\n"
      ],
      "metadata": {
        "colab": {
          "base_uri": "https://localhost:8080/"
        },
        "id": "sl-xTpx2F8xT",
        "outputId": "dda3cceb-1130-470e-fab2-73fe7f513f77"
      },
      "execution_count": null,
      "outputs": [
        {
          "output_type": "stream",
          "name": "stdout",
          "text": [
            "   customer_id_legacy  transaction_id  purchase_amount purchase_date  \\\n",
            "0                 151            1001            408.0    2024-01-01   \n",
            "1                 192            1002            332.0    2024-01-02   \n",
            "2                 192            1002            332.0    2024-01-02   \n",
            "3                 192            1002            332.0    2024-01-02   \n",
            "4                 192            1002            332.0    2024-01-02   \n",
            "\n",
            "  product_category  customer_rating  purchase_amount_aug customer_id_new  \n",
            "0           Sports              2.3           413.195463            A176  \n",
            "1      Electronics              4.2           323.370777            A156  \n",
            "2      Electronics              4.2           323.370777            A108  \n",
            "3      Electronics              4.2           323.370777            A110  \n",
            "4      Electronics              4.2           323.370777            A140  \n",
            "Missing customer_id_new: 65\n"
          ]
        }
      ]
    },
    {
      "cell_type": "code",
      "source": [
        "# Find customer_id_legacy values in transactions that do NOT exist in id_mapping.csv\n",
        "unmatched_legacy_ids = merged_data[merged_data['customer_id_new'].isna()]['customer_id_legacy'].unique()\n",
        "\n",
        "print(f\"Total unique customer_id_legacy missing in id_mapping.csv: {len(unmatched_legacy_ids)}\")\n",
        "print(\"Sample of missing customer_id_legacy values:\", unmatched_legacy_ids[:10])\n"
      ],
      "metadata": {
        "colab": {
          "base_uri": "https://localhost:8080/"
        },
        "id": "LfOBW3grIDXd",
        "outputId": "37eb394a-358c-428c-b161-ab9d42ac7d2b"
      },
      "execution_count": null,
      "outputs": [
        {
          "output_type": "stream",
          "name": "stdout",
          "text": [
            "Total unique customer_id_legacy missing in id_mapping.csv: 16\n",
            "Sample of missing customer_id_legacy values: [171 160 123 102 148 154 172 117 108 143]\n"
          ]
        }
      ]
    },
    {
      "cell_type": "markdown",
      "source": [
        "We will assign '*unlinked* '  to missing customer_id_new"
      ],
      "metadata": {
        "id": "nxpWxB9YKOCU"
      }
    },
    {
      "cell_type": "code",
      "source": [
        "merged_data['customer_id_new'] = merged_data['customer_id_new'].fillna(\"unlinked\")"
      ],
      "metadata": {
        "id": "lZH5izbgK2Nb"
      },
      "execution_count": null,
      "outputs": []
    },
    {
      "cell_type": "markdown",
      "source": [
        "### II. Merge with customer_social_profiles.csv"
      ],
      "metadata": {
        "id": "fxZjyUoOLtpH"
      }
    },
    {
      "cell_type": "code",
      "source": [
        "customer_social_profiles = pd.read_csv(\"/content/drive/MyDrive/customer_social_profiles.csv\")"
      ],
      "metadata": {
        "id": "w3vsdVQLMdyq"
      },
      "execution_count": null,
      "outputs": []
    },
    {
      "cell_type": "code",
      "source": [
        "# Count unique customer_id_new in both datasets before merging\n",
        "print(\"Unique customer_id_new in merged_data:\", merged_data['customer_id_new'].nunique())\n",
        "print(\"Unique customer_id_new in customer_social_profiles:\", customer_social_profiles['customer_id_new'].nunique())\n",
        "\n",
        "# Check how many customer_id_new are missing in customer_social_profiles\n",
        "missing_customer_new = merged_data[~merged_data['customer_id_new'].isin(customer_social_profiles['customer_id_new'])]\n",
        "print(\"Transactions with customer_id_new not in social profiles:\", missing_customer_new.shape[0])\n"
      ],
      "metadata": {
        "colab": {
          "base_uri": "https://localhost:8080/"
        },
        "id": "7pS8yd6yMR6k",
        "outputId": "b43a33c0-5b08-4bf1-8167-35e5e6f823ee"
      },
      "execution_count": null,
      "outputs": [
        {
          "output_type": "stream",
          "name": "stdout",
          "text": [
            "Unique customer_id_new in merged_data: 66\n",
            "Unique customer_id_new in customer_social_profiles: 84\n",
            "Transactions with customer_id_new not in social profiles: 154\n"
          ]
        }
      ]
    },
    {
      "cell_type": "code",
      "source": [
        "# MERGE merged_data WITH customer_social_profiles\n",
        "\n",
        "final_merged_data = merged_data.merge(customer_social_profiles, on=\"customer_id_new\", how=\"left\")\n",
        "\n",
        "# check the impact of merging\n",
        "print(\"Rows in final_merged_data:\", final_merged_data.shape[0])\n",
        "print(\"Columns in final_merged_data:\", final_merged_data.columns)\n"
      ],
      "metadata": {
        "colab": {
          "base_uri": "https://localhost:8080/"
        },
        "id": "wuvt5idUO5lX",
        "outputId": "7bee179b-b5f7-4298-ada1-1fee56d3f6b9"
      },
      "execution_count": null,
      "outputs": [
        {
          "output_type": "stream",
          "name": "stdout",
          "text": [
            "Rows in final_merged_data: 758\n",
            "Columns in final_merged_data: Index(['customer_id_legacy', 'transaction_id', 'purchase_amount',\n",
            "       'purchase_date', 'product_category', 'customer_rating',\n",
            "       'purchase_amount_aug', 'customer_id_new', 'social_media_platform',\n",
            "       'engagement_score', 'purchase_interest_score', 'review_sentiment'],\n",
            "      dtype='object')\n"
          ]
        }
      ]
    },
    {
      "cell_type": "code",
      "source": [
        "# Recheck missing values in each column\n",
        "print(final_merged_data.isna().sum())\n"
      ],
      "metadata": {
        "colab": {
          "base_uri": "https://localhost:8080/"
        },
        "id": "RN8w9uOFP6Yj",
        "outputId": "73758fe6-5f17-43b7-a68b-fa03b83b1f32"
      },
      "execution_count": null,
      "outputs": [
        {
          "output_type": "stream",
          "name": "stdout",
          "text": [
            "customer_id_legacy           0\n",
            "transaction_id               0\n",
            "purchase_amount              0\n",
            "purchase_date                0\n",
            "product_category             0\n",
            "customer_rating              0\n",
            "purchase_amount_aug          0\n",
            "customer_id_new              0\n",
            "social_media_platform      154\n",
            "engagement_score           154\n",
            "purchase_interest_score    154\n",
            "review_sentiment           154\n",
            "dtype: int64\n"
          ]
        }
      ]
    },
    {
      "cell_type": "markdown",
      "source": [
        "#### Handling the missing values\n",
        "\n",
        "**Imputation Plan:**\n",
        "\n",
        "- social_media_platform : Replace NaN with \"Unknown\"\n",
        "\n",
        "- engagement_score : Replace NaN with 0 (assume inactive users)\n",
        "\n",
        "- purchase_interest_score : Replace NaN with the mean of the column\n",
        "\n",
        "- review_sentiment : Replace NaN with \"Neutral\""
      ],
      "metadata": {
        "id": "Cy1CJfn-QTXQ"
      }
    },
    {
      "cell_type": "code",
      "source": [
        "# filling missing values\n",
        "final_merged_data[\"social_media_platform\"] = final_merged_data[\"social_media_platform\"].fillna(\"Unknown\")\n",
        "final_merged_data[\"engagement_score\"] = final_merged_data[\"engagement_score\"].fillna(0)\n",
        "final_merged_data[\"purchase_interest_score\"] = final_merged_data[\"purchase_interest_score\"].fillna(final_merged_data[\"purchase_interest_score\"].mean())\n",
        "final_merged_data[\"review_sentiment\"] = final_merged_data[\"review_sentiment\"].fillna(\"Neutral\")\n",
        "\n",
        "# check no missing values remain\n",
        "print(final_merged_data.isna().sum())\n"
      ],
      "metadata": {
        "colab": {
          "base_uri": "https://localhost:8080/"
        },
        "id": "-rKoTMPGQizW",
        "outputId": "de52e741-5b46-4972-e475-ea2a80e0047b"
      },
      "execution_count": null,
      "outputs": [
        {
          "output_type": "stream",
          "name": "stdout",
          "text": [
            "customer_id_legacy         0\n",
            "transaction_id             0\n",
            "purchase_amount            0\n",
            "purchase_date              0\n",
            "product_category           0\n",
            "customer_rating            0\n",
            "purchase_amount_aug        0\n",
            "customer_id_new            0\n",
            "social_media_platform      0\n",
            "engagement_score           0\n",
            "purchase_interest_score    0\n",
            "review_sentiment           0\n",
            "dtype: int64\n"
          ]
        }
      ]
    },
    {
      "cell_type": "markdown",
      "source": [
        "### III. Feature Engineering and Transformation"
      ],
      "metadata": {
        "id": "aHUC-nOJSufP"
      }
    },
    {
      "cell_type": "markdown",
      "source": [
        "#### Compute Customer Engagement Score"
      ],
      "metadata": {
        "id": "DCwiLFy2S_BC"
      }
    },
    {
      "cell_type": "code",
      "source": [
        "# normalize values\n",
        "scaler = MinMaxScaler()\n",
        "final_merged_data[['purchase_amount_aug', 'engagement_score', 'purchase_interest_score']] = scaler.fit_transform(\n",
        "    final_merged_data[['purchase_amount_aug', 'engagement_score', 'purchase_interest_score']]\n",
        ")\n",
        "\n",
        "# compute customer engagement score\n",
        "final_merged_data[\"customer_engagement_score\"] = (\n",
        "    final_merged_data[\"purchase_amount_aug\"] * 0.33 +\n",
        "    final_merged_data[\"engagement_score\"] * 0.33 +\n",
        "    final_merged_data[\"purchase_interest_score\"] * 0.34\n",
        ")\n",
        "\n",
        "# preview\n",
        "print(final_merged_data[[\"customer_id_new\", \"customer_engagement_score\"]].head())\n"
      ],
      "metadata": {
        "colab": {
          "base_uri": "https://localhost:8080/"
        },
        "id": "cOqK2NwETKDC",
        "outputId": "2289e789-e90a-435c-e82d-629608957e89"
      },
      "execution_count": null,
      "outputs": [
        {
          "output_type": "stream",
          "name": "stdout",
          "text": [
            "  customer_id_new  customer_engagement_score\n",
            "0            A176                   0.686504\n",
            "1            A156                   0.698156\n",
            "2            A108                   0.380407\n",
            "3            A110                   0.380407\n",
            "4            A140                   0.658489\n"
          ]
        }
      ]
    },
    {
      "cell_type": "markdown",
      "source": [
        "#### Compute Moving Averages for Purchases"
      ],
      "metadata": {
        "id": "7DrsUgxjUDhS"
      }
    },
    {
      "cell_type": "code",
      "source": [
        "# 1. PURCHASE DATES\n",
        "# strip any trailing spaces and remove time component if present\n",
        "final_merged_data[\"purchase_date\"] = (\n",
        "    final_merged_data[\"purchase_date\"].astype(str).str.strip().str.split().str[0]\n",
        ")\n",
        "\n",
        "# safely convert to datetime\n",
        "final_merged_data[\"purchase_date\"] = pd.to_datetime(final_merged_data[\"purchase_date\"], errors=\"coerce\")\n",
        "\n",
        "# Check if any invalid dates remain\n",
        "print(\"Missing/Invalid Dates:\", final_merged_data[\"purchase_date\"].isna().sum())\n",
        "\n",
        "final_merged_data[\"purchase_date\"] = pd.to_datetime(final_merged_data[\"purchase_date\"])\n",
        "\n",
        "# Sort by customer and date\n",
        "final_merged_data = final_merged_data.sort_values(by=[\"customer_id_new\", \"purchase_date\"])\n",
        "\n",
        "# 2. ROLLING AVERAGES\n",
        "# Compute rolling averages per customer\n",
        "final_merged_data[\"rolling_avg_3\"] = (\n",
        "    final_merged_data.groupby(\"customer_id_new\")[\"purchase_amount_aug\"]\n",
        "    .transform(lambda x: x.rolling(window=3, min_periods=1).mean())\n",
        ")\n",
        "\n",
        "final_merged_data[\"rolling_avg_5\"] = (\n",
        "    final_merged_data.groupby(\"customer_id_new\")[\"purchase_amount_aug\"]\n",
        "    .transform(lambda x: x.rolling(window=5, min_periods=1).mean())\n",
        ")\n",
        "\n",
        "# Count total transactions per customer\n",
        "final_merged_data[\"total_purchases\"] = final_merged_data.groupby(\"customer_id_new\")[\"transaction_id\"].transform(\"count\")\n",
        "\n",
        "# Preview\n",
        "print(final_merged_data[[\"customer_id_new\", \"purchase_amount_aug\", \"rolling_avg_3\", \"rolling_avg_5\", \"total_purchases\"]].head(10))\n"
      ],
      "metadata": {
        "colab": {
          "base_uri": "https://localhost:8080/"
        },
        "id": "nFPeOpedUKG1",
        "outputId": "cb1cd100-6f55-487c-872a-82d945fc8c93"
      },
      "execution_count": null,
      "outputs": [
        {
          "output_type": "stream",
          "name": "stdout",
          "text": [
            "Missing/Invalid Dates: 0\n",
            "    customer_id_new  purchase_amount_aug  rolling_avg_3  rolling_avg_5  \\\n",
            "71             A101             0.375875       0.375875       0.375875   \n",
            "134            A101             1.000000       0.687938       0.687938   \n",
            "114            A102             0.090399       0.090399       0.090399   \n",
            "742            A102             0.090399       0.090399       0.090399   \n",
            "137            A102             0.743732       0.308177       0.308177   \n",
            "458            A102             0.090399       0.308177       0.253732   \n",
            "172            A102             0.912394       0.582175       0.385465   \n",
            "509            A102             0.743732       0.582175       0.516131   \n",
            "323            A102             0.455736       0.703954       0.589199   \n",
            "705            A102             0.455736       0.551735       0.531600   \n",
            "\n",
            "     total_purchases  \n",
            "71                 2  \n",
            "134                2  \n",
            "114                8  \n",
            "742                8  \n",
            "137                8  \n",
            "458                8  \n",
            "172                8  \n",
            "509                8  \n",
            "323                8  \n",
            "705                8  \n"
          ]
        }
      ]
    },
    {
      "cell_type": "markdown",
      "source": [
        "#### TF-IDF on customer reviews or social media comments"
      ],
      "metadata": {
        "id": "lkBYWPxiWhp6"
      }
    },
    {
      "cell_type": "code",
      "source": [
        "print(final_merged_data[\"review_sentiment\"].value_counts())"
      ],
      "metadata": {
        "colab": {
          "base_uri": "https://localhost:8080/"
        },
        "id": "x6cIQcFSWlNw",
        "outputId": "4d623a54-2760-48fb-e09d-f4289dc2f717"
      },
      "execution_count": null,
      "outputs": [
        {
          "output_type": "stream",
          "name": "stdout",
          "text": [
            "review_sentiment\n",
            "Neutral     334\n",
            "Positive    231\n",
            "Negative    193\n",
            "Name: count, dtype: int64\n"
          ]
        }
      ]
    },
    {
      "cell_type": "markdown",
      "source": [
        "**Let's first transform the sentiments into texts**"
      ],
      "metadata": {
        "id": "XxLT_yUdXETo"
      }
    },
    {
      "cell_type": "code",
      "source": [
        "# Define mapping\n",
        "sentiment_map = {\n",
        "    \"Positive\": \"good excellent happy satisfied amazing\",\n",
        "    \"Negative\": \"bad terrible disappointed unhappy poor\",\n",
        "    \"Neutral\": \"okay neutral average fine normal\"\n",
        "}\n",
        "\n",
        "# Replace sentiment labels with corresponding text descriptions\n",
        "final_merged_data[\"review_sentiment_text\"] = final_merged_data[\"review_sentiment\"].map(sentiment_map)\n",
        "\n",
        "# Preview\n",
        "print(final_merged_data[[\"review_sentiment\", \"review_sentiment_text\"]].head())\n"
      ],
      "metadata": {
        "colab": {
          "base_uri": "https://localhost:8080/"
        },
        "id": "Cz09HajEW6MP",
        "outputId": "2883c9ac-fa7f-4d9c-a8d2-43cf73a80293"
      },
      "execution_count": null,
      "outputs": [
        {
          "output_type": "stream",
          "name": "stdout",
          "text": [
            "    review_sentiment             review_sentiment_text\n",
            "71           Neutral  okay neutral average fine normal\n",
            "134          Neutral  okay neutral average fine normal\n",
            "114          Neutral  okay neutral average fine normal\n",
            "742          Neutral  okay neutral average fine normal\n",
            "137          Neutral  okay neutral average fine normal\n"
          ]
        }
      ]
    },
    {
      "cell_type": "markdown",
      "source": [
        "**We then apply TF-IDF Vectorization**"
      ],
      "metadata": {
        "id": "YQ_RaWz1Xk_T"
      }
    },
    {
      "cell_type": "code",
      "source": [
        "# Initialize TF-IDF Vectorizer\n",
        "tfidf = TfidfVectorizer(max_features=5)  # Adjust max_features as needed\n",
        "\n",
        "# Fit and transform sentiment text\n",
        "tfidf_matrix = tfidf.fit_transform(final_merged_data[\"review_sentiment_text\"])\n",
        "\n",
        "# Convert TF-IDF matrix to DataFrame\n",
        "tfidf_df = pd.DataFrame(tfidf_matrix.toarray(), columns=tfidf.get_feature_names_out())\n",
        "\n",
        "# Concatenate TF-IDF features with final_merged_data\n",
        "final_merged_data = pd.concat([final_merged_data, tfidf_df], axis=1)\n",
        "\n",
        "# Drop the original text column\n",
        "final_merged_data.drop(columns=[\"review_sentiment_text\"], inplace=True)\n",
        "\n",
        "# Preview the final dataset\n",
        "print(final_merged_data.head())\n"
      ],
      "metadata": {
        "colab": {
          "base_uri": "https://localhost:8080/"
        },
        "id": "R8OSYsPFXrF9",
        "outputId": "d438046e-bad3-4d77-828f-6a6f429ff4b9"
      },
      "execution_count": null,
      "outputs": [
        {
          "output_type": "stream",
          "name": "stdout",
          "text": [
            "     customer_id_legacy  transaction_id  purchase_amount purchase_date  \\\n",
            "71                  163            1022            220.0    2024-01-22   \n",
            "134                 163            1044            495.0    2024-02-13   \n",
            "114                 191            1034             94.0    2024-02-03   \n",
            "742                 191            1218             94.0    2024-02-03   \n",
            "137                 106            1047            397.0    2024-02-16   \n",
            "\n",
            "    product_category  customer_rating  purchase_amount_aug customer_id_new  \\\n",
            "71         Groceries              2.7             0.375875            A101   \n",
            "134           Sports              3.0             1.000000            A101   \n",
            "114      Electronics              3.0             0.090399            A102   \n",
            "742      Electronics              3.0             0.090399            A102   \n",
            "137           Sports              1.7             0.743732            A102   \n",
            "\n",
            "    social_media_platform  engagement_score  ...  review_sentiment  \\\n",
            "71                Twitter          0.686869  ...           Neutral   \n",
            "134               Twitter          0.686869  ...           Neutral   \n",
            "114              LinkedIn          0.515152  ...           Neutral   \n",
            "742              LinkedIn          0.515152  ...           Neutral   \n",
            "137              LinkedIn          0.515152  ...           Neutral   \n",
            "\n",
            "    customer_engagement_score  rolling_avg_3  rolling_avg_5  total_purchases  \\\n",
            "71                   0.350706       0.375875       0.375875                2   \n",
            "134                  0.556667       0.687938       0.687938                2   \n",
            "114                  0.522832       0.090399       0.090399                8   \n",
            "742                  0.522832       0.090399       0.090399                8   \n",
            "137                  0.738432       0.308177       0.308177                8   \n",
            "\n",
            "      average      fine   neutral    normal      okay  \n",
            "71   0.000000  0.000000  0.000000  0.000000  0.000000  \n",
            "134  0.000000  0.000000  0.000000  0.000000  0.000000  \n",
            "114  0.000000  0.000000  0.000000  0.000000  0.000000  \n",
            "742  0.447214  0.447214  0.447214  0.447214  0.447214  \n",
            "137  0.000000  0.000000  0.000000  0.000000  0.000000  \n",
            "\n",
            "[5 rows x 21 columns]\n"
          ]
        }
      ]
    },
    {
      "cell_type": "markdown",
      "source": [
        "**We save our merged and engineered dataset**"
      ],
      "metadata": {
        "id": "kQtugp39YQLb"
      }
    },
    {
      "cell_type": "code",
      "source": [
        "# Save the processed dataset\n",
        "final_merged_data.to_csv(\"final_customer_data_pld14.csv\", index=False)\n",
        "print(\"Dataset saved successfully!\")\n"
      ],
      "metadata": {
        "colab": {
          "base_uri": "https://localhost:8080/"
        },
        "id": "b798dfzbYaSk",
        "outputId": "9e42f0b8-083a-426c-d210-a8460fdfdef8"
      },
      "execution_count": null,
      "outputs": [
        {
          "output_type": "stream",
          "name": "stdout",
          "text": [
            "Dataset saved successfully!\n"
          ]
        }
      ]
    },
    {
      "cell_type": "markdown",
      "source": [
        "## Part Three: Data Consistency and Quality Checks"
      ],
      "metadata": {
        "id": "sifw06pVZIoO"
      }
    },
    {
      "cell_type": "markdown",
      "source": [
        "### I. Data Integrity Checks"
      ],
      "metadata": {
        "id": "p0bsiATkZU6a"
      }
    },
    {
      "cell_type": "code",
      "source": [
        "# check for duplicates\n",
        "duplicates = final_merged_data.duplicated().sum()\n",
        "print(f\"Total duplicate rows: {duplicates}\")"
      ],
      "metadata": {
        "colab": {
          "base_uri": "https://localhost:8080/"
        },
        "id": "tJfi6xYEZUBp",
        "outputId": "91e79350-62fb-4b3e-8310-e8ea1d0bb9d0"
      },
      "execution_count": null,
      "outputs": [
        {
          "output_type": "stream",
          "name": "stdout",
          "text": [
            "Total duplicate rows: 18\n"
          ]
        }
      ]
    },
    {
      "cell_type": "code",
      "source": [
        "# drop duplicate rows\n",
        "final_merged_data = final_merged_data.drop_duplicates()\n",
        "\n",
        "# check the shape of the cleaned dataset\n",
        "print(f\"Rows after removing duplicates: {final_merged_data.shape[0]}\")\n"
      ],
      "metadata": {
        "colab": {
          "base_uri": "https://localhost:8080/"
        },
        "id": "gYJ_iI9qZhiH",
        "outputId": "402aafad-7f81-4028-90c7-100cec55de61"
      },
      "execution_count": null,
      "outputs": [
        {
          "output_type": "stream",
          "name": "stdout",
          "text": [
            "Rows after removing duplicates: 740\n"
          ]
        }
      ]
    },
    {
      "cell_type": "code",
      "source": [
        "# check if all categorical values are mapped\n",
        "for col in ['product_category', 'social_media_platform', 'review_sentiment']:\n",
        "    print(f\"Unique values in {col}:\\n\", final_merged_data[col].value_counts(), \"\\n\")\n"
      ],
      "metadata": {
        "colab": {
          "base_uri": "https://localhost:8080/"
        },
        "id": "zo3EyBqBaknR",
        "outputId": "b0105380-fcd7-4143-c0fc-09a26070be79"
      },
      "execution_count": null,
      "outputs": [
        {
          "output_type": "stream",
          "name": "stdout",
          "text": [
            "Unique values in product_category:\n",
            " product_category\n",
            "Electronics    182\n",
            "Groceries      148\n",
            "Books          145\n",
            "Sports         144\n",
            "Clothing       121\n",
            "Name: count, dtype: int64 \n",
            "\n",
            "Unique values in social_media_platform:\n",
            " social_media_platform\n",
            "Unknown      154\n",
            "Facebook     142\n",
            "TikTok       135\n",
            "LinkedIn     105\n",
            "Instagram    104\n",
            "Twitter      100\n",
            "Name: count, dtype: int64 \n",
            "\n",
            "Unique values in review_sentiment:\n",
            " review_sentiment\n",
            "Neutral     326\n",
            "Positive    225\n",
            "Negative    189\n",
            "Name: count, dtype: int64 \n",
            "\n"
          ]
        }
      ]
    },
    {
      "cell_type": "code",
      "source": [
        "# validate all customer transactions match a valid social profile.\n",
        "missing_social_profiles = final_merged_data['social_media_platform'].isna().sum()\n",
        "print(f\"Transactions without a linked social profile: {missing_social_profiles}\")\n"
      ],
      "metadata": {
        "colab": {
          "base_uri": "https://localhost:8080/"
        },
        "id": "Mh0yfesoa4OR",
        "outputId": "42fe67a8-0153-4f0e-df41-b2f03eedbf2d"
      },
      "execution_count": null,
      "outputs": [
        {
          "output_type": "stream",
          "name": "stdout",
          "text": [
            "Transactions without a linked social profile: 0\n"
          ]
        }
      ]
    },
    {
      "cell_type": "markdown",
      "source": [
        "### II. Statistical Summarization"
      ],
      "metadata": {
        "id": "K0PglB_JbPo7"
      }
    },
    {
      "cell_type": "code",
      "source": [
        "final_merged_data.describe()"
      ],
      "metadata": {
        "colab": {
          "base_uri": "https://localhost:8080/",
          "height": 424
        },
        "id": "Z3Vi5wNtbZc0",
        "outputId": "8dd8f86f-c846-4a07-806d-69b2e36ef3c5"
      },
      "execution_count": null,
      "outputs": [
        {
          "output_type": "execute_result",
          "data": {
            "text/plain": [
              "       customer_id_legacy  transaction_id  purchase_amount  \\\n",
              "count          740.000000      740.000000       740.000000   \n",
              "mean           151.025676     1130.271622       287.354768   \n",
              "min            100.000000     1001.000000        38.921929   \n",
              "25%            128.000000     1067.750000       189.298749   \n",
              "50%            152.000000     1146.500000       280.000000   \n",
              "75%            177.500000     1190.250000       391.054968   \n",
              "max            199.000000     1248.000000       500.792143   \n",
              "std             29.762172       70.646506       119.616508   \n",
              "\n",
              "                       purchase_date  customer_rating  purchase_amount_aug  \\\n",
              "count                            740       740.000000           740.000000   \n",
              "mean   2024-03-14 04:57:43.783783936         2.933919             0.513786   \n",
              "min              2024-01-01 00:00:00         1.000000             0.000000   \n",
              "25%              2024-01-31 00:00:00         1.775000             0.294429   \n",
              "50%              2024-03-08 00:00:00         2.950000             0.495145   \n",
              "75%              2024-04-22 00:00:00         3.925000             0.734124   \n",
              "max              2024-06-26 00:00:00         5.000000             1.000000   \n",
              "std                              NaN         1.188718             0.259469   \n",
              "\n",
              "       engagement_score  purchase_interest_score  customer_engagement_score  \\\n",
              "count        740.000000               740.000000                 740.000000   \n",
              "mean           0.609023                 0.551471                   0.558027   \n",
              "min            0.000000                 0.000000                   0.187084   \n",
              "25%            0.505051                 0.462500                   0.429042   \n",
              "50%            0.727273                 0.550248                   0.561019   \n",
              "75%            0.868687                 0.725000                   0.699572   \n",
              "max            1.000000                 1.000000                   0.914090   \n",
              "std            0.340613                 0.245490                   0.172123   \n",
              "\n",
              "       rolling_avg_3  rolling_avg_5  total_purchases     average        fine  \\\n",
              "count     740.000000     740.000000       740.000000  740.000000  740.000000   \n",
              "mean        0.506394       0.499169        24.208108    0.197016    0.197016   \n",
              "min         0.025230       0.025230         1.000000    0.000000    0.000000   \n",
              "25%         0.343197       0.357502        10.000000    0.000000    0.000000   \n",
              "50%         0.486491       0.486491        16.000000    0.000000    0.000000   \n",
              "75%         0.674927       0.648026        26.000000    0.447214    0.447214   \n",
              "max         0.965110       0.965110        70.000000    0.447214    0.447214   \n",
              "std         0.223771       0.208248        21.295014    0.222170    0.222170   \n",
              "\n",
              "          neutral      normal        okay  \n",
              "count  740.000000  740.000000  740.000000  \n",
              "mean     0.197016    0.197016    0.197016  \n",
              "min      0.000000    0.000000    0.000000  \n",
              "25%      0.000000    0.000000    0.000000  \n",
              "50%      0.000000    0.000000    0.000000  \n",
              "75%      0.447214    0.447214    0.447214  \n",
              "max      0.447214    0.447214    0.447214  \n",
              "std      0.222170    0.222170    0.222170  "
            ],
            "text/html": [
              "\n",
              "  <div id=\"df-4abd037b-7189-4835-a5f7-f71ff60668dd\" class=\"colab-df-container\">\n",
              "    <div>\n",
              "<style scoped>\n",
              "    .dataframe tbody tr th:only-of-type {\n",
              "        vertical-align: middle;\n",
              "    }\n",
              "\n",
              "    .dataframe tbody tr th {\n",
              "        vertical-align: top;\n",
              "    }\n",
              "\n",
              "    .dataframe thead th {\n",
              "        text-align: right;\n",
              "    }\n",
              "</style>\n",
              "<table border=\"1\" class=\"dataframe\">\n",
              "  <thead>\n",
              "    <tr style=\"text-align: right;\">\n",
              "      <th></th>\n",
              "      <th>customer_id_legacy</th>\n",
              "      <th>transaction_id</th>\n",
              "      <th>purchase_amount</th>\n",
              "      <th>purchase_date</th>\n",
              "      <th>customer_rating</th>\n",
              "      <th>purchase_amount_aug</th>\n",
              "      <th>engagement_score</th>\n",
              "      <th>purchase_interest_score</th>\n",
              "      <th>customer_engagement_score</th>\n",
              "      <th>rolling_avg_3</th>\n",
              "      <th>rolling_avg_5</th>\n",
              "      <th>total_purchases</th>\n",
              "      <th>average</th>\n",
              "      <th>fine</th>\n",
              "      <th>neutral</th>\n",
              "      <th>normal</th>\n",
              "      <th>okay</th>\n",
              "    </tr>\n",
              "  </thead>\n",
              "  <tbody>\n",
              "    <tr>\n",
              "      <th>count</th>\n",
              "      <td>740.000000</td>\n",
              "      <td>740.000000</td>\n",
              "      <td>740.000000</td>\n",
              "      <td>740</td>\n",
              "      <td>740.000000</td>\n",
              "      <td>740.000000</td>\n",
              "      <td>740.000000</td>\n",
              "      <td>740.000000</td>\n",
              "      <td>740.000000</td>\n",
              "      <td>740.000000</td>\n",
              "      <td>740.000000</td>\n",
              "      <td>740.000000</td>\n",
              "      <td>740.000000</td>\n",
              "      <td>740.000000</td>\n",
              "      <td>740.000000</td>\n",
              "      <td>740.000000</td>\n",
              "      <td>740.000000</td>\n",
              "    </tr>\n",
              "    <tr>\n",
              "      <th>mean</th>\n",
              "      <td>151.025676</td>\n",
              "      <td>1130.271622</td>\n",
              "      <td>287.354768</td>\n",
              "      <td>2024-03-14 04:57:43.783783936</td>\n",
              "      <td>2.933919</td>\n",
              "      <td>0.513786</td>\n",
              "      <td>0.609023</td>\n",
              "      <td>0.551471</td>\n",
              "      <td>0.558027</td>\n",
              "      <td>0.506394</td>\n",
              "      <td>0.499169</td>\n",
              "      <td>24.208108</td>\n",
              "      <td>0.197016</td>\n",
              "      <td>0.197016</td>\n",
              "      <td>0.197016</td>\n",
              "      <td>0.197016</td>\n",
              "      <td>0.197016</td>\n",
              "    </tr>\n",
              "    <tr>\n",
              "      <th>min</th>\n",
              "      <td>100.000000</td>\n",
              "      <td>1001.000000</td>\n",
              "      <td>38.921929</td>\n",
              "      <td>2024-01-01 00:00:00</td>\n",
              "      <td>1.000000</td>\n",
              "      <td>0.000000</td>\n",
              "      <td>0.000000</td>\n",
              "      <td>0.000000</td>\n",
              "      <td>0.187084</td>\n",
              "      <td>0.025230</td>\n",
              "      <td>0.025230</td>\n",
              "      <td>1.000000</td>\n",
              "      <td>0.000000</td>\n",
              "      <td>0.000000</td>\n",
              "      <td>0.000000</td>\n",
              "      <td>0.000000</td>\n",
              "      <td>0.000000</td>\n",
              "    </tr>\n",
              "    <tr>\n",
              "      <th>25%</th>\n",
              "      <td>128.000000</td>\n",
              "      <td>1067.750000</td>\n",
              "      <td>189.298749</td>\n",
              "      <td>2024-01-31 00:00:00</td>\n",
              "      <td>1.775000</td>\n",
              "      <td>0.294429</td>\n",
              "      <td>0.505051</td>\n",
              "      <td>0.462500</td>\n",
              "      <td>0.429042</td>\n",
              "      <td>0.343197</td>\n",
              "      <td>0.357502</td>\n",
              "      <td>10.000000</td>\n",
              "      <td>0.000000</td>\n",
              "      <td>0.000000</td>\n",
              "      <td>0.000000</td>\n",
              "      <td>0.000000</td>\n",
              "      <td>0.000000</td>\n",
              "    </tr>\n",
              "    <tr>\n",
              "      <th>50%</th>\n",
              "      <td>152.000000</td>\n",
              "      <td>1146.500000</td>\n",
              "      <td>280.000000</td>\n",
              "      <td>2024-03-08 00:00:00</td>\n",
              "      <td>2.950000</td>\n",
              "      <td>0.495145</td>\n",
              "      <td>0.727273</td>\n",
              "      <td>0.550248</td>\n",
              "      <td>0.561019</td>\n",
              "      <td>0.486491</td>\n",
              "      <td>0.486491</td>\n",
              "      <td>16.000000</td>\n",
              "      <td>0.000000</td>\n",
              "      <td>0.000000</td>\n",
              "      <td>0.000000</td>\n",
              "      <td>0.000000</td>\n",
              "      <td>0.000000</td>\n",
              "    </tr>\n",
              "    <tr>\n",
              "      <th>75%</th>\n",
              "      <td>177.500000</td>\n",
              "      <td>1190.250000</td>\n",
              "      <td>391.054968</td>\n",
              "      <td>2024-04-22 00:00:00</td>\n",
              "      <td>3.925000</td>\n",
              "      <td>0.734124</td>\n",
              "      <td>0.868687</td>\n",
              "      <td>0.725000</td>\n",
              "      <td>0.699572</td>\n",
              "      <td>0.674927</td>\n",
              "      <td>0.648026</td>\n",
              "      <td>26.000000</td>\n",
              "      <td>0.447214</td>\n",
              "      <td>0.447214</td>\n",
              "      <td>0.447214</td>\n",
              "      <td>0.447214</td>\n",
              "      <td>0.447214</td>\n",
              "    </tr>\n",
              "    <tr>\n",
              "      <th>max</th>\n",
              "      <td>199.000000</td>\n",
              "      <td>1248.000000</td>\n",
              "      <td>500.792143</td>\n",
              "      <td>2024-06-26 00:00:00</td>\n",
              "      <td>5.000000</td>\n",
              "      <td>1.000000</td>\n",
              "      <td>1.000000</td>\n",
              "      <td>1.000000</td>\n",
              "      <td>0.914090</td>\n",
              "      <td>0.965110</td>\n",
              "      <td>0.965110</td>\n",
              "      <td>70.000000</td>\n",
              "      <td>0.447214</td>\n",
              "      <td>0.447214</td>\n",
              "      <td>0.447214</td>\n",
              "      <td>0.447214</td>\n",
              "      <td>0.447214</td>\n",
              "    </tr>\n",
              "    <tr>\n",
              "      <th>std</th>\n",
              "      <td>29.762172</td>\n",
              "      <td>70.646506</td>\n",
              "      <td>119.616508</td>\n",
              "      <td>NaN</td>\n",
              "      <td>1.188718</td>\n",
              "      <td>0.259469</td>\n",
              "      <td>0.340613</td>\n",
              "      <td>0.245490</td>\n",
              "      <td>0.172123</td>\n",
              "      <td>0.223771</td>\n",
              "      <td>0.208248</td>\n",
              "      <td>21.295014</td>\n",
              "      <td>0.222170</td>\n",
              "      <td>0.222170</td>\n",
              "      <td>0.222170</td>\n",
              "      <td>0.222170</td>\n",
              "      <td>0.222170</td>\n",
              "    </tr>\n",
              "  </tbody>\n",
              "</table>\n",
              "</div>\n",
              "    <div class=\"colab-df-buttons\">\n",
              "\n",
              "  <div class=\"colab-df-container\">\n",
              "    <button class=\"colab-df-convert\" onclick=\"convertToInteractive('df-4abd037b-7189-4835-a5f7-f71ff60668dd')\"\n",
              "            title=\"Convert this dataframe to an interactive table.\"\n",
              "            style=\"display:none;\">\n",
              "\n",
              "  <svg xmlns=\"http://www.w3.org/2000/svg\" height=\"24px\" viewBox=\"0 -960 960 960\">\n",
              "    <path d=\"M120-120v-720h720v720H120Zm60-500h600v-160H180v160Zm220 220h160v-160H400v160Zm0 220h160v-160H400v160ZM180-400h160v-160H180v160Zm440 0h160v-160H620v160ZM180-180h160v-160H180v160Zm440 0h160v-160H620v160Z\"/>\n",
              "  </svg>\n",
              "    </button>\n",
              "\n",
              "  <style>\n",
              "    .colab-df-container {\n",
              "      display:flex;\n",
              "      gap: 12px;\n",
              "    }\n",
              "\n",
              "    .colab-df-convert {\n",
              "      background-color: #E8F0FE;\n",
              "      border: none;\n",
              "      border-radius: 50%;\n",
              "      cursor: pointer;\n",
              "      display: none;\n",
              "      fill: #1967D2;\n",
              "      height: 32px;\n",
              "      padding: 0 0 0 0;\n",
              "      width: 32px;\n",
              "    }\n",
              "\n",
              "    .colab-df-convert:hover {\n",
              "      background-color: #E2EBFA;\n",
              "      box-shadow: 0px 1px 2px rgba(60, 64, 67, 0.3), 0px 1px 3px 1px rgba(60, 64, 67, 0.15);\n",
              "      fill: #174EA6;\n",
              "    }\n",
              "\n",
              "    .colab-df-buttons div {\n",
              "      margin-bottom: 4px;\n",
              "    }\n",
              "\n",
              "    [theme=dark] .colab-df-convert {\n",
              "      background-color: #3B4455;\n",
              "      fill: #D2E3FC;\n",
              "    }\n",
              "\n",
              "    [theme=dark] .colab-df-convert:hover {\n",
              "      background-color: #434B5C;\n",
              "      box-shadow: 0px 1px 3px 1px rgba(0, 0, 0, 0.15);\n",
              "      filter: drop-shadow(0px 1px 2px rgba(0, 0, 0, 0.3));\n",
              "      fill: #FFFFFF;\n",
              "    }\n",
              "  </style>\n",
              "\n",
              "    <script>\n",
              "      const buttonEl =\n",
              "        document.querySelector('#df-4abd037b-7189-4835-a5f7-f71ff60668dd button.colab-df-convert');\n",
              "      buttonEl.style.display =\n",
              "        google.colab.kernel.accessAllowed ? 'block' : 'none';\n",
              "\n",
              "      async function convertToInteractive(key) {\n",
              "        const element = document.querySelector('#df-4abd037b-7189-4835-a5f7-f71ff60668dd');\n",
              "        const dataTable =\n",
              "          await google.colab.kernel.invokeFunction('convertToInteractive',\n",
              "                                                    [key], {});\n",
              "        if (!dataTable) return;\n",
              "\n",
              "        const docLinkHtml = 'Like what you see? Visit the ' +\n",
              "          '<a target=\"_blank\" href=https://colab.research.google.com/notebooks/data_table.ipynb>data table notebook</a>'\n",
              "          + ' to learn more about interactive tables.';\n",
              "        element.innerHTML = '';\n",
              "        dataTable['output_type'] = 'display_data';\n",
              "        await google.colab.output.renderOutput(dataTable, element);\n",
              "        const docLink = document.createElement('div');\n",
              "        docLink.innerHTML = docLinkHtml;\n",
              "        element.appendChild(docLink);\n",
              "      }\n",
              "    </script>\n",
              "  </div>\n",
              "\n",
              "\n",
              "<div id=\"df-74a363ac-f403-4eba-b262-0fdc5ce531b1\">\n",
              "  <button class=\"colab-df-quickchart\" onclick=\"quickchart('df-74a363ac-f403-4eba-b262-0fdc5ce531b1')\"\n",
              "            title=\"Suggest charts\"\n",
              "            style=\"display:none;\">\n",
              "\n",
              "<svg xmlns=\"http://www.w3.org/2000/svg\" height=\"24px\"viewBox=\"0 0 24 24\"\n",
              "     width=\"24px\">\n",
              "    <g>\n",
              "        <path d=\"M19 3H5c-1.1 0-2 .9-2 2v14c0 1.1.9 2 2 2h14c1.1 0 2-.9 2-2V5c0-1.1-.9-2-2-2zM9 17H7v-7h2v7zm4 0h-2V7h2v10zm4 0h-2v-4h2v4z\"/>\n",
              "    </g>\n",
              "</svg>\n",
              "  </button>\n",
              "\n",
              "<style>\n",
              "  .colab-df-quickchart {\n",
              "      --bg-color: #E8F0FE;\n",
              "      --fill-color: #1967D2;\n",
              "      --hover-bg-color: #E2EBFA;\n",
              "      --hover-fill-color: #174EA6;\n",
              "      --disabled-fill-color: #AAA;\n",
              "      --disabled-bg-color: #DDD;\n",
              "  }\n",
              "\n",
              "  [theme=dark] .colab-df-quickchart {\n",
              "      --bg-color: #3B4455;\n",
              "      --fill-color: #D2E3FC;\n",
              "      --hover-bg-color: #434B5C;\n",
              "      --hover-fill-color: #FFFFFF;\n",
              "      --disabled-bg-color: #3B4455;\n",
              "      --disabled-fill-color: #666;\n",
              "  }\n",
              "\n",
              "  .colab-df-quickchart {\n",
              "    background-color: var(--bg-color);\n",
              "    border: none;\n",
              "    border-radius: 50%;\n",
              "    cursor: pointer;\n",
              "    display: none;\n",
              "    fill: var(--fill-color);\n",
              "    height: 32px;\n",
              "    padding: 0;\n",
              "    width: 32px;\n",
              "  }\n",
              "\n",
              "  .colab-df-quickchart:hover {\n",
              "    background-color: var(--hover-bg-color);\n",
              "    box-shadow: 0 1px 2px rgba(60, 64, 67, 0.3), 0 1px 3px 1px rgba(60, 64, 67, 0.15);\n",
              "    fill: var(--button-hover-fill-color);\n",
              "  }\n",
              "\n",
              "  .colab-df-quickchart-complete:disabled,\n",
              "  .colab-df-quickchart-complete:disabled:hover {\n",
              "    background-color: var(--disabled-bg-color);\n",
              "    fill: var(--disabled-fill-color);\n",
              "    box-shadow: none;\n",
              "  }\n",
              "\n",
              "  .colab-df-spinner {\n",
              "    border: 2px solid var(--fill-color);\n",
              "    border-color: transparent;\n",
              "    border-bottom-color: var(--fill-color);\n",
              "    animation:\n",
              "      spin 1s steps(1) infinite;\n",
              "  }\n",
              "\n",
              "  @keyframes spin {\n",
              "    0% {\n",
              "      border-color: transparent;\n",
              "      border-bottom-color: var(--fill-color);\n",
              "      border-left-color: var(--fill-color);\n",
              "    }\n",
              "    20% {\n",
              "      border-color: transparent;\n",
              "      border-left-color: var(--fill-color);\n",
              "      border-top-color: var(--fill-color);\n",
              "    }\n",
              "    30% {\n",
              "      border-color: transparent;\n",
              "      border-left-color: var(--fill-color);\n",
              "      border-top-color: var(--fill-color);\n",
              "      border-right-color: var(--fill-color);\n",
              "    }\n",
              "    40% {\n",
              "      border-color: transparent;\n",
              "      border-right-color: var(--fill-color);\n",
              "      border-top-color: var(--fill-color);\n",
              "    }\n",
              "    60% {\n",
              "      border-color: transparent;\n",
              "      border-right-color: var(--fill-color);\n",
              "    }\n",
              "    80% {\n",
              "      border-color: transparent;\n",
              "      border-right-color: var(--fill-color);\n",
              "      border-bottom-color: var(--fill-color);\n",
              "    }\n",
              "    90% {\n",
              "      border-color: transparent;\n",
              "      border-bottom-color: var(--fill-color);\n",
              "    }\n",
              "  }\n",
              "</style>\n",
              "\n",
              "  <script>\n",
              "    async function quickchart(key) {\n",
              "      const quickchartButtonEl =\n",
              "        document.querySelector('#' + key + ' button');\n",
              "      quickchartButtonEl.disabled = true;  // To prevent multiple clicks.\n",
              "      quickchartButtonEl.classList.add('colab-df-spinner');\n",
              "      try {\n",
              "        const charts = await google.colab.kernel.invokeFunction(\n",
              "            'suggestCharts', [key], {});\n",
              "      } catch (error) {\n",
              "        console.error('Error during call to suggestCharts:', error);\n",
              "      }\n",
              "      quickchartButtonEl.classList.remove('colab-df-spinner');\n",
              "      quickchartButtonEl.classList.add('colab-df-quickchart-complete');\n",
              "    }\n",
              "    (() => {\n",
              "      let quickchartButtonEl =\n",
              "        document.querySelector('#df-74a363ac-f403-4eba-b262-0fdc5ce531b1 button');\n",
              "      quickchartButtonEl.style.display =\n",
              "        google.colab.kernel.accessAllowed ? 'block' : 'none';\n",
              "    })();\n",
              "  </script>\n",
              "</div>\n",
              "\n",
              "    </div>\n",
              "  </div>\n"
            ],
            "application/vnd.google.colaboratory.intrinsic+json": {
              "type": "dataframe",
              "summary": "{\n  \"name\": \"final_merged_data\",\n  \"rows\": 8,\n  \"fields\": [\n    {\n      \"column\": \"customer_id_legacy\",\n      \"properties\": {\n        \"dtype\": \"number\",\n        \"std\": 220.4631410881864,\n        \"min\": 29.762172142030526,\n        \"max\": 740.0,\n        \"num_unique_values\": 8,\n        \"samples\": [\n          151.02567567567567,\n          177.5,\n          740.0\n        ],\n        \"semantic_type\": \"\",\n        \"description\": \"\"\n      }\n    },\n    {\n      \"column\": \"transaction_id\",\n      \"properties\": {\n        \"dtype\": \"number\",\n        \"std\": 387.56730384784066,\n        \"min\": 70.64650612889,\n        \"max\": 1248.0,\n        \"num_unique_values\": 8,\n        \"samples\": [\n          1130.2716216216215,\n          1190.25,\n          740.0\n        ],\n        \"semantic_type\": \"\",\n        \"description\": \"\"\n      }\n    },\n    {\n      \"column\": \"purchase_amount\",\n      \"properties\": {\n        \"dtype\": \"number\",\n        \"std\": 224.56960845326702,\n        \"min\": 38.92192851722329,\n        \"max\": 740.0,\n        \"num_unique_values\": 8,\n        \"samples\": [\n          287.35476829758557,\n          391.0549684354312,\n          740.0\n        ],\n        \"semantic_type\": \"\",\n        \"description\": \"\"\n      }\n    },\n    {\n      \"column\": \"purchase_date\",\n      \"properties\": {\n        \"dtype\": \"date\",\n        \"min\": \"1970-01-01 00:00:00.000000740\",\n        \"max\": \"2024-06-26 00:00:00\",\n        \"num_unique_values\": 7,\n        \"samples\": [\n          \"740\",\n          \"2024-03-14 04:57:43.783783936\",\n          \"2024-04-22 00:00:00\"\n        ],\n        \"semantic_type\": \"\",\n        \"description\": \"\"\n      }\n    },\n    {\n      \"column\": \"customer_rating\",\n      \"properties\": {\n        \"dtype\": \"number\",\n        \"std\": 260.68489200435647,\n        \"min\": 1.0,\n        \"max\": 740.0,\n        \"num_unique_values\": 8,\n        \"samples\": [\n          2.933918918918919,\n          3.925,\n          740.0\n        ],\n        \"semantic_type\": \"\",\n        \"description\": \"\"\n      }\n    },\n    {\n      \"column\": \"purchase_amount_aug\",\n      \"properties\": {\n        \"dtype\": \"number\",\n        \"std\": 261.4631651027888,\n        \"min\": 0.0,\n        \"max\": 740.0,\n        \"num_unique_values\": 8,\n        \"samples\": [\n          0.513786168994105,\n          0.7341236695953558,\n          740.0\n        ],\n        \"semantic_type\": \"\",\n        \"description\": \"\"\n      }\n    },\n    {\n      \"column\": \"engagement_score\",\n      \"properties\": {\n        \"dtype\": \"number\",\n        \"std\": 261.4251067833679,\n        \"min\": 0.0,\n        \"max\": 740.0,\n        \"num_unique_values\": 8,\n        \"samples\": [\n          0.6090226590226591,\n          0.8686868686868687,\n          740.0\n        ],\n        \"semantic_type\": \"\",\n        \"description\": \"\"\n      }\n    },\n    {\n      \"column\": \"purchase_interest_score\",\n      \"properties\": {\n        \"dtype\": \"number\",\n        \"std\": 261.45114918041537,\n        \"min\": 0.0,\n        \"max\": 740.0,\n        \"num_unique_values\": 8,\n        \"samples\": [\n          0.551470601396098,\n          0.725,\n          740.0\n        ],\n        \"semantic_type\": \"\",\n        \"description\": \"\"\n      }\n    },\n    {\n      \"column\": \"customer_engagement_score\",\n      \"properties\": {\n        \"dtype\": \"number\",\n        \"std\": 261.4517909643998,\n        \"min\": 0.17212260162416748,\n        \"max\": 740.0,\n        \"num_unique_values\": 8,\n        \"samples\": [\n          0.5580269177202055,\n          0.6995723694103901,\n          740.0\n        ],\n        \"semantic_type\": \"\",\n        \"description\": \"\"\n      }\n    },\n    {\n      \"column\": \"rolling_avg_3\",\n      \"properties\": {\n        \"dtype\": \"number\",\n        \"std\": 261.4667695949167,\n        \"min\": 0.025230104645918294,\n        \"max\": 740.0,\n        \"num_unique_values\": 8,\n        \"samples\": [\n          0.506394102484515,\n          0.6749270719455579,\n          740.0\n        ],\n        \"semantic_type\": \"\",\n        \"description\": \"\"\n      }\n    },\n    {\n      \"column\": \"rolling_avg_5\",\n      \"properties\": {\n        \"dtype\": \"number\",\n        \"std\": 261.46855278238513,\n        \"min\": 0.025230104645918294,\n        \"max\": 740.0,\n        \"num_unique_values\": 8,\n        \"samples\": [\n          0.4991688996536306,\n          0.6480255298563757,\n          740.0\n        ],\n        \"semantic_type\": \"\",\n        \"description\": \"\"\n      }\n    },\n    {\n      \"column\": \"total_purchases\",\n      \"properties\": {\n        \"dtype\": \"number\",\n        \"std\": 253.94045134988926,\n        \"min\": 1.0,\n        \"max\": 740.0,\n        \"num_unique_values\": 8,\n        \"samples\": [\n          24.208108108108107,\n          26.0,\n          740.0\n        ],\n        \"semantic_type\": \"\",\n        \"description\": \"\"\n      }\n    },\n    {\n      \"column\": \"average\",\n      \"properties\": {\n        \"dtype\": \"number\",\n        \"std\": 261.5632275498635,\n        \"min\": 0.0,\n        \"max\": 740.0,\n        \"num_unique_values\": 5,\n        \"samples\": [\n          0.19701571909863014,\n          0.2221702426539507,\n          0.0\n        ],\n        \"semantic_type\": \"\",\n        \"description\": \"\"\n      }\n    },\n    {\n      \"column\": \"fine\",\n      \"properties\": {\n        \"dtype\": \"number\",\n        \"std\": 261.5632275498635,\n        \"min\": 0.0,\n        \"max\": 740.0,\n        \"num_unique_values\": 5,\n        \"samples\": [\n          0.19701571909863014,\n          0.2221702426539507,\n          0.0\n        ],\n        \"semantic_type\": \"\",\n        \"description\": \"\"\n      }\n    },\n    {\n      \"column\": \"neutral\",\n      \"properties\": {\n        \"dtype\": \"number\",\n        \"std\": 261.5632275498635,\n        \"min\": 0.0,\n        \"max\": 740.0,\n        \"num_unique_values\": 5,\n        \"samples\": [\n          0.19701571909863014,\n          0.2221702426539507,\n          0.0\n        ],\n        \"semantic_type\": \"\",\n        \"description\": \"\"\n      }\n    },\n    {\n      \"column\": \"normal\",\n      \"properties\": {\n        \"dtype\": \"number\",\n        \"std\": 261.5632275498635,\n        \"min\": 0.0,\n        \"max\": 740.0,\n        \"num_unique_values\": 5,\n        \"samples\": [\n          0.19701571909863014,\n          0.2221702426539507,\n          0.0\n        ],\n        \"semantic_type\": \"\",\n        \"description\": \"\"\n      }\n    },\n    {\n      \"column\": \"okay\",\n      \"properties\": {\n        \"dtype\": \"number\",\n        \"std\": 261.5632275498635,\n        \"min\": 0.0,\n        \"max\": 740.0,\n        \"num_unique_values\": 5,\n        \"samples\": [\n          0.19701571909863014,\n          0.2221702426539507,\n          0.0\n        ],\n        \"semantic_type\": \"\",\n        \"description\": \"\"\n      }\n    }\n  ]\n}"
            }
          },
          "metadata": {},
          "execution_count": 46
        }
      ]
    },
    {
      "cell_type": "code",
      "source": [
        "# visualize purchase amount distributions\n",
        "\n",
        "plt.figure(figsize=(12, 5))\n",
        "sns.histplot(final_merged_data['purchase_amount'], bins=30, kde=True, label='Original')\n",
        "sns.histplot(final_merged_data['purchase_amount_aug'], bins=30, kde=True, color='red', label='Augmented')\n",
        "plt.legend()\n",
        "plt.title(\"Distribution of Purchase Amounts (Before & After Augmentation)\")\n",
        "plt.show()\n"
      ],
      "metadata": {
        "colab": {
          "base_uri": "https://localhost:8080/",
          "height": 487
        },
        "id": "_YkqtTfbbiUA",
        "outputId": "08a1a199-b965-4453-e5c1-e39d0becc34f"
      },
      "execution_count": null,
      "outputs": [
        {
          "output_type": "display_data",
          "data": {
            "text/plain": [
              "<Figure size 1200x500 with 1 Axes>"
            ],
            "image/png": "[encoded data removed]"
          },
          "metadata": {}
        }
      ]
    },
    {
      "cell_type": "markdown",
      "source": [
        "### Feature Selection For ML"
      ],
      "metadata": {
        "id": "3n30S0G0b4TD"
      }
    },
    {
      "cell_type": "code",
      "source": [
        "# correlation heatmap\n",
        "\n",
        "# select only numeric columns\n",
        "numeric_data = final_merged_data.select_dtypes(include=['number'])\n",
        "\n",
        "# plot\n",
        "plt.figure(figsize=(10,8))\n",
        "sns.heatmap(numeric_data.corr(), annot=True, cmap=\"coolwarm\", fmt=\".2f\")\n",
        "plt.title(\"Feature Correlation Heatmap\")\n",
        "plt.show()\n",
        "\n"
      ],
      "metadata": {
        "colab": {
          "base_uri": "https://localhost:8080/",
          "height": 889
        },
        "id": "tB9_pRNccOLW",
        "outputId": "b8f45d1c-419d-4994-d38c-740d1535824b"
      },
      "execution_count": null,
      "outputs": [
        {
          "output_type": "display_data",
          "data": {
            "text/plain": [
              "<Figure size 1000x800 with 2 Axes>"
            ],
            "image/png": "[encoded data removed]"
          },
          "metadata": {}
        }
      ]
    },
    {
      "cell_type": "code",
      "source": [
        "# Select the top 10 most important features\n",
        "\n",
        "# Encode categorical target\n",
        "le = LabelEncoder()\n",
        "final_merged_data['review_sentiment_encoded'] = le.fit_transform(final_merged_data['review_sentiment'])\n",
        "\n",
        "# Select numeric features\n",
        "features = final_merged_data.select_dtypes(include=['number']).drop(columns=['review_sentiment_encoded'])\n",
        "target = final_merged_data['review_sentiment_encoded']\n",
        "\n",
        "# Feature importance using Random Forest\n",
        "rf = RandomForestClassifier(n_estimators=100, random_state=42)\n",
        "rf.fit(features, target)\n",
        "feature_importances = pd.DataFrame({'Feature': features.columns, 'Importance': rf.feature_importances_})\n",
        "top_features = feature_importances.sort_values(by='Importance', ascending=False).head(10)\n",
        "print(\"Top 10 Features:\\n\", top_features)\n"
      ],
      "metadata": {
        "colab": {
          "base_uri": "https://localhost:8080/"
        },
        "id": "Qphopjn6dB8V",
        "outputId": "34117c5d-7772-48ee-d193-ca6c1e66c574"
      },
      "execution_count": null,
      "outputs": [
        {
          "output_type": "stream",
          "name": "stdout",
          "text": [
            "Top 10 Features:\n",
            "                       Feature  Importance\n",
            "5            engagement_score    0.260437\n",
            "6     purchase_interest_score    0.190517\n",
            "10            total_purchases    0.116996\n",
            "7   customer_engagement_score    0.108462\n",
            "0          customer_id_legacy    0.083602\n",
            "3             customer_rating    0.047305\n",
            "9               rolling_avg_5    0.041125\n",
            "4         purchase_amount_aug    0.039543\n",
            "8               rolling_avg_3    0.039458\n",
            "2             purchase_amount    0.036637\n"
          ]
        }
      ]
    },
    {
      "cell_type": "code",
      "source": [
        "# save final dataset\n",
        "final_merged_data.to_csv(\"final_dataset_ready_pld14.csv\", index=False)\n",
        "print(\"Final dataset saved successfully!\")\n"
      ],
      "metadata": {
        "colab": {
          "base_uri": "https://localhost:8080/"
        },
        "id": "zttoVUuldp5j",
        "outputId": "e7182447-8148-4624-84b5-793c5a45a1aa"
      },
      "execution_count": null,
      "outputs": [
        {
          "output_type": "stream",
          "name": "stdout",
          "text": [
            "Final dataset saved successfully!\n"
          ]
        }
      ]
    }
  ]
}